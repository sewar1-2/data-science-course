{
 "cells": [
  {
   "cell_type": "markdown",
   "id": "83366a8b",
   "metadata": {},
   "source": [
    "# Data Science Tools and Ecosystem"
   ]
  },
  {
   "cell_type": "markdown",
   "id": "59b3ff7e",
   "metadata": {},
   "source": [
    "### In this notebook, Data Science Tools and Ecosystem are summarized."
   ]
  },
  {
   "cell_type": "markdown",
   "id": "8cfea95e",
   "metadata": {},
   "source": [
    "**Objectives :**\n",
    "+ list some popular languages for data science\n",
    "+ list some popular libraries for data science\n",
    "+ list some popular open source environment for data science "
   ]
  },
  {
   "cell_type": "markdown",
   "id": "8fcff3f1",
   "metadata": {},
   "source": [
    "Some of the popular languages that Data Scientists use are:\n",
    "1. python\n",
    "2. R\n",
    "3. sql"
   ]
  },
  {
   "cell_type": "markdown",
   "id": "6c6caf3a",
   "metadata": {},
   "source": [
    "Some of the commonly used libraries used by Data Scientists include:\n",
    "1. numpy\n",
    "2. pandas\n",
    "3. scikit learn "
   ]
  },
  {
   "cell_type": "markdown",
   "id": "61be6e95",
   "metadata": {},
   "source": [
    "| Data Science Tools |\n",
    "| --------------|\n",
    "| jupyter notebook |\n",
    "| Rstudio |\n",
    "| Apache spark |"
   ]
  },
  {
   "cell_type": "markdown",
   "id": "0919b42e",
   "metadata": {},
   "source": [
    "### Below are a few examples of evaluating arithmetic expressions in Python."
   ]
  },
  {
   "cell_type": "code",
   "execution_count": 2,
   "id": "6c98efdb",
   "metadata": {},
   "outputs": [
    {
     "data": {
      "text/plain": [
       "17"
      ]
     },
     "execution_count": 2,
     "metadata": {},
     "output_type": "execute_result"
    }
   ],
   "source": [
    "#This a simple arithmetic expression to mutiply then add integers\n",
    "(3*4)+5"
   ]
  },
  {
   "cell_type": "code",
   "execution_count": 5,
   "id": "94fea91e",
   "metadata": {},
   "outputs": [
    {
     "data": {
      "text/plain": [
       "3.3333333333333335"
      ]
     },
     "execution_count": 5,
     "metadata": {},
     "output_type": "execute_result"
    }
   ],
   "source": [
    "#This will convert 200 minutes to hours by diving by 60.\n",
    "(200/60)"
   ]
  },
  {
   "cell_type": "markdown",
   "id": "5e704972",
   "metadata": {},
   "source": [
    "## Author\n",
    "sewar"
   ]
  },
  {
   "cell_type": "code",
   "execution_count": null,
   "id": "fd3a77e9",
   "metadata": {},
   "outputs": [],
   "source": []
  }
 ],
 "metadata": {
  "kernelspec": {
   "display_name": "Python 3 (ipykernel)",
   "language": "python",
   "name": "python3"
  },
  "language_info": {
   "codemirror_mode": {
    "name": "ipython",
    "version": 3
   },
   "file_extension": ".py",
   "mimetype": "text/x-python",
   "name": "python",
   "nbconvert_exporter": "python",
   "pygments_lexer": "ipython3",
   "version": "3.9.12"
  }
 },
 "nbformat": 4,
 "nbformat_minor": 5
}
